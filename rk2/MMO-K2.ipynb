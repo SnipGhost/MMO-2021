{
 "cells": [
  {
   "cell_type": "markdown",
   "metadata": {},
   "source": [
    "# Рубежный контроль №2\n",
    "Вариант **№4**\n",
    "\n",
    "Студент: **Кучеренко М.А.**  \n",
    "Группа: **ИУ5-21М**\n",
    "\n",
    "### Классификатор №1\n",
    "LogisticRegression\n",
    "\n",
    "### Классификатор №2\n",
    "Multinomial Naive Bayes (MNB)\n",
    "\n",
    "Необходимо решить задачу классификации текстов на основе любого выбранного Вами датасета (кроме примера, который рассматривался в лекции). Классификация может быть бинарной или многоклассовой. Целевой признак из выбранного Вами датасета может иметь любой физический смысл, примером является задача анализа тональности текста.\n",
    "Необходимо сформировать два варианта векторизации признаков - на основе `CountVectorizer` и на основе `TfidfVectorizer`.\n",
    "Для каждого метода необходимо оценить качество классификации. Сделайте вывод о том, какой вариант векторизации признаков в паре с каким классификатором показал лучшее качество.\n",
    "\n",
    "Набор данных - [20 newsgroups text dataset](https://scikit-learn.org/stable/datasets/real_world.html#the-20-newsgroups-text-dataset)\n",
    "\n",
    "Классы: 20\n",
    "Выборка: 18846"
   ]
  },
  {
   "cell_type": "code",
   "execution_count": 1,
   "metadata": {},
   "outputs": [],
   "source": [
    "import numpy as np\n",
    "import pandas as pd\n",
    "from typing import Dict, Tuple\n",
    "from sklearn.feature_extraction.text import CountVectorizer, TfidfVectorizer\n",
    "from sklearn.model_selection import GridSearchCV, RandomizedSearchCV\n",
    "from sklearn.metrics import accuracy_score, balanced_accuracy_score\n",
    "from sklearn.metrics import precision_score, recall_score, f1_score, classification_report\n",
    "from sklearn.metrics import confusion_matrix\n",
    "from sklearn.model_selection import cross_val_score\n",
    "from sklearn.pipeline import Pipeline\n",
    "from sklearn.metrics import mean_absolute_error, mean_squared_error, mean_squared_log_error, median_absolute_error, r2_score \n",
    "from sklearn.metrics import roc_curve, roc_auc_score\n",
    "from sklearn.naive_bayes import MultinomialNB\n",
    "from sklearn.linear_model import LogisticRegression\n",
    "from collections import Counter\n",
    "from sklearn.datasets import fetch_20newsgroups\n",
    "import matplotlib\n",
    "import matplotlib.pyplot as plt\n",
    "import seaborn as sns\n",
    "%matplotlib inline  "
   ]
  },
  {
   "cell_type": "code",
   "execution_count": 2,
   "metadata": {},
   "outputs": [],
   "source": [
    "categories = [\"sci.crypt\", \"sci.electronics\", \"talk.religion.misc\"]\n",
    "newsgroups = fetch_20newsgroups(subset='train', categories=categories)\n",
    "data = newsgroups['data']"
   ]
  },
  {
   "cell_type": "code",
   "execution_count": 3,
   "metadata": {},
   "outputs": [],
   "source": [
    "def accuracy_score_for_classes(y_true, y_pred):\n",
    "    df = pd.DataFrame(data={'t': y_true, 'p': y_pred})\n",
    "    res = dict()\n",
    "    for c in np.unique(y_true):\n",
    "        temp_data_flt = df[df['t'] == c]\n",
    "        temp_acc = accuracy_score(\n",
    "            temp_data_flt['t'].values, \n",
    "            temp_data_flt['p'].values\n",
    "        )\n",
    "        res[c] = temp_acc\n",
    "    return res\n",
    "\n",
    "def print_accuracy_score_for_classes(y_true, y_pred):\n",
    "    accs = accuracy_score_for_classes(y_true, y_pred)\n",
    "    if len(accs) > 0:\n",
    "        print('Метка \\t Accuracy')\n",
    "    for i in accs:\n",
    "        print('{} \\t {}'.format(i, accs[i]))"
   ]
  },
  {
   "cell_type": "code",
   "execution_count": 4,
   "metadata": {},
   "outputs": [
    {
     "name": "stdout",
     "output_type": "stream",
     "text": [
      "Feature count - 28701\n"
     ]
    }
   ],
   "source": [
    "# С помощью CountVectorizer преобразуем коллекцию текстовых данных в матрицу счётчиков токенов\n",
    "vocabVect = CountVectorizer()\n",
    "vocabVect.fit(data)\n",
    "corpusVocab = vocabVect.vocabulary_\n",
    "print(f'Feature count - {len(corpusVocab)}')"
   ]
  },
  {
   "cell_type": "code",
   "execution_count": 5,
   "metadata": {},
   "outputs": [
    {
     "name": "stdout",
     "output_type": "stream",
     "text": [
      "from      : 12431\n",
      "mhald     : 17640\n",
      "lynx      : 16837\n",
      "dac       : 8923\n",
      "northeastern: 18926\n",
      "edu       : 10573\n",
      "mark      : 17150\n",
      "hald      : 13352\n",
      "subject   : 24936\n"
     ]
    }
   ],
   "source": [
    "first_el = 0\n",
    "last_el = 9\n",
    "\n",
    "for word in list(corpusVocab)[first_el:last_el]:\n",
    "    print(f'{word:10}: {corpusVocab[word]}')"
   ]
  },
  {
   "cell_type": "code",
   "execution_count": 6,
   "metadata": {},
   "outputs": [
    {
     "data": {
      "text/plain": [
       "(1563, 28701)"
      ]
     },
     "execution_count": 6,
     "metadata": {},
     "output_type": "execute_result"
    }
   ],
   "source": [
    "test_features = vocabVect.transform(data)\n",
    "test_features.todense().shape"
   ]
  },
  {
   "cell_type": "code",
   "execution_count": 7,
   "metadata": {},
   "outputs": [
    {
     "data": {
      "text/plain": [
       "matrix([[0, 0, 0, ..., 0, 0, 0],\n",
       "        [0, 0, 0, ..., 0, 0, 0],\n",
       "        [0, 0, 0, ..., 0, 0, 0],\n",
       "        ...,\n",
       "        [0, 0, 0, ..., 0, 0, 0],\n",
       "        [1, 0, 0, ..., 0, 0, 0],\n",
       "        [0, 0, 0, ..., 0, 0, 0]])"
      ]
     },
     "execution_count": 7,
     "metadata": {},
     "output_type": "execute_result"
    }
   ],
   "source": [
    "test_features.todense()"
   ]
  },
  {
   "cell_type": "code",
   "execution_count": 8,
   "metadata": {},
   "outputs": [],
   "source": [
    "# Cross-validation classification\n",
    "def VectorizeAndClassify(vectorizers_list, classifiers_list):\n",
    "    max_acc = 0\n",
    "    \n",
    "    for v in vectorizers_list:\n",
    "        for c in classifiers_list:\n",
    "            pipeline1 = Pipeline([('vectorizer', v), ('classifier', c)])\n",
    "            score = cross_val_score(\n",
    "                pipeline1,\n",
    "                newsgroups['data'],\n",
    "                newsgroups['target'],\n",
    "                scoring='accuracy',\n",
    "                cv=3\n",
    "            ).mean()\n",
    "            if score > max_acc:\n",
    "                max_acc = score\n",
    "                max_v = v\n",
    "                max_c = c\n",
    "            print(f'Векторизация:\\t {v}\\nКлассификатор:\\t {c}\\nAccuracy:\\t {score}')\n",
    "            print('='*80)\n",
    "            \n",
    "    print(f'\\nЛучший результат: {max_acc}, {type(max_v).__name__}, {type(max_c).__name__}')"
   ]
  },
  {
   "cell_type": "code",
   "execution_count": 9,
   "metadata": {},
   "outputs": [
    {
     "name": "stderr",
     "output_type": "stream",
     "text": [
      "/Users/snipghost/opt/anaconda3/lib/python3.7/site-packages/sklearn/linear_model/logistic.py:432: FutureWarning: Default solver will be changed to 'lbfgs' in 0.22. Specify a solver to silence this warning.\n",
      "  FutureWarning)\n",
      "/Users/snipghost/opt/anaconda3/lib/python3.7/site-packages/sklearn/linear_model/logistic.py:469: FutureWarning: Default multi_class will be changed to 'auto' in 0.22. Specify the multi_class option to silence this warning.\n",
      "  \"this warning.\", FutureWarning)\n"
     ]
    },
    {
     "name": "stdout",
     "output_type": "stream",
     "text": [
      "Векторизация:\t CountVectorizer(analyzer='word', binary=False, decode_error='strict',\n",
      "                dtype=<class 'numpy.int64'>, encoding='utf-8', input='content',\n",
      "                lowercase=True, max_df=1.0, max_features=None, min_df=1,\n",
      "                ngram_range=(1, 1), preprocessor=None, stop_words=None,\n",
      "                strip_accents=None, token_pattern='(?u)\\\\b\\\\w\\\\w+\\\\b',\n",
      "                tokenizer=None,\n",
      "                vocabulary={'00': 0, '000': 1, '00000000': 2, '00000000b...\n",
      "                            '00000001': 4, '00000001b': 5, '00000010': 6,\n",
      "                            '00000010b': 7, '00000011': 8, '00000011b': 9,\n",
      "                            '00000100': 10, '00000100b': 11, '00000101': 12,\n",
      "                            '00000101b': 13, '00000110': 14, '00000110b': 15,\n",
      "                            '00000111': 16, '00000111b': 17, '00001000': 18,\n",
      "                            '00001000b': 19, '00001001': 20, '00001001b': 21,\n",
      "                            '00001010': 22, '00001010b': 23, '00001011': 24,\n",
      "                            '00001011b': 25, '00001100': 26, '00001100b': 27,\n",
      "                            '00001101': 28, '00001101b': 29, ...})\n",
      "Классификатор:\t LogisticRegression(C=1.0, class_weight=None, dual=False, fit_intercept=True,\n",
      "                   intercept_scaling=1, l1_ratio=None, max_iter=100,\n",
      "                   multi_class='warn', n_jobs=None, penalty='l2',\n",
      "                   random_state=None, solver='warn', tol=0.0001, verbose=0,\n",
      "                   warm_start=False)\n",
      "Accuracy:\t 0.9609748411307085\n",
      "================================================================================\n",
      "Векторизация:\t CountVectorizer(analyzer='word', binary=False, decode_error='strict',\n",
      "                dtype=<class 'numpy.int64'>, encoding='utf-8', input='content',\n",
      "                lowercase=True, max_df=1.0, max_features=None, min_df=1,\n",
      "                ngram_range=(1, 1), preprocessor=None, stop_words=None,\n",
      "                strip_accents=None, token_pattern='(?u)\\\\b\\\\w\\\\w+\\\\b',\n",
      "                tokenizer=None,\n",
      "                vocabulary={'00': 0, '000': 1, '00000000': 2, '00000000b...\n",
      "                            '00000001': 4, '00000001b': 5, '00000010': 6,\n",
      "                            '00000010b': 7, '00000011': 8, '00000011b': 9,\n",
      "                            '00000100': 10, '00000100b': 11, '00000101': 12,\n",
      "                            '00000101b': 13, '00000110': 14, '00000110b': 15,\n",
      "                            '00000111': 16, '00000111b': 17, '00001000': 18,\n",
      "                            '00001000b': 19, '00001001': 20, '00001001b': 21,\n",
      "                            '00001010': 22, '00001010b': 23, '00001011': 24,\n",
      "                            '00001011b': 25, '00001100': 26, '00001100b': 27,\n",
      "                            '00001101': 28, '00001101b': 29, ...})\n",
      "Классификатор:\t MultinomialNB(alpha=1.0, class_prior=None, fit_prior=True)\n",
      "Accuracy:\t 0.984007541400486\n",
      "================================================================================\n"
     ]
    },
    {
     "name": "stderr",
     "output_type": "stream",
     "text": [
      "/Users/snipghost/opt/anaconda3/lib/python3.7/site-packages/sklearn/linear_model/logistic.py:432: FutureWarning: Default solver will be changed to 'lbfgs' in 0.22. Specify a solver to silence this warning.\n",
      "  FutureWarning)\n",
      "/Users/snipghost/opt/anaconda3/lib/python3.7/site-packages/sklearn/linear_model/logistic.py:469: FutureWarning: Default multi_class will be changed to 'auto' in 0.22. Specify the multi_class option to silence this warning.\n",
      "  \"this warning.\", FutureWarning)\n"
     ]
    },
    {
     "name": "stdout",
     "output_type": "stream",
     "text": [
      "Векторизация:\t TfidfVectorizer(analyzer='word', binary=False, decode_error='strict',\n",
      "                dtype=<class 'numpy.float64'>, encoding='utf-8',\n",
      "                input='content', lowercase=True, max_df=1.0, max_features=None,\n",
      "                min_df=1, ngram_range=(1, 1), norm='l2', preprocessor=None,\n",
      "                smooth_idf=True, stop_words=None, strip_accents=None,\n",
      "                sublinear_tf=False, token_pattern='(?u)\\\\b\\\\w\\\\w+\\\\b',\n",
      "                tokenizer=None, use...\n",
      "                            '00000001': 4, '00000001b': 5, '00000010': 6,\n",
      "                            '00000010b': 7, '00000011': 8, '00000011b': 9,\n",
      "                            '00000100': 10, '00000100b': 11, '00000101': 12,\n",
      "                            '00000101b': 13, '00000110': 14, '00000110b': 15,\n",
      "                            '00000111': 16, '00000111b': 17, '00001000': 18,\n",
      "                            '00001000b': 19, '00001001': 20, '00001001b': 21,\n",
      "                            '00001010': 22, '00001010b': 23, '00001011': 24,\n",
      "                            '00001011b': 25, '00001100': 26, '00001100b': 27,\n",
      "                            '00001101': 28, '00001101b': 29, ...})\n",
      "Классификатор:\t LogisticRegression(C=1.0, class_weight=None, dual=False, fit_intercept=True,\n",
      "                   intercept_scaling=1, l1_ratio=None, max_iter=100,\n",
      "                   multi_class='warn', n_jobs=None, penalty='l2',\n",
      "                   random_state=None, solver='warn', tol=0.0001, verbose=0,\n",
      "                   warm_start=False)\n",
      "Accuracy:\t 0.9366625786143953\n",
      "================================================================================\n",
      "Векторизация:\t TfidfVectorizer(analyzer='word', binary=False, decode_error='strict',\n",
      "                dtype=<class 'numpy.float64'>, encoding='utf-8',\n",
      "                input='content', lowercase=True, max_df=1.0, max_features=None,\n",
      "                min_df=1, ngram_range=(1, 1), norm='l2', preprocessor=None,\n",
      "                smooth_idf=True, stop_words=None, strip_accents=None,\n",
      "                sublinear_tf=False, token_pattern='(?u)\\\\b\\\\w\\\\w+\\\\b',\n",
      "                tokenizer=None, use...\n",
      "                            '00000001': 4, '00000001b': 5, '00000010': 6,\n",
      "                            '00000010b': 7, '00000011': 8, '00000011b': 9,\n",
      "                            '00000100': 10, '00000100b': 11, '00000101': 12,\n",
      "                            '00000101b': 13, '00000110': 14, '00000110b': 15,\n",
      "                            '00000111': 16, '00000111b': 17, '00001000': 18,\n",
      "                            '00001000b': 19, '00001001': 20, '00001001b': 21,\n",
      "                            '00001010': 22, '00001010b': 23, '00001011': 24,\n",
      "                            '00001011b': 25, '00001100': 26, '00001100b': 27,\n",
      "                            '00001101': 28, '00001101b': 29, ...})\n",
      "Классификатор:\t MultinomialNB(alpha=1.0, class_prior=None, fit_prior=True)\n",
      "Accuracy:\t 0.8675669621264962\n",
      "================================================================================\n",
      "\n",
      "Лучший результат: 0.984007541400486, CountVectorizer, MultinomialNB\n"
     ]
    }
   ],
   "source": [
    "vectorizers_list = (\n",
    "    CountVectorizer(vocabulary = corpusVocab),\n",
    "    TfidfVectorizer(vocabulary = corpusVocab),\n",
    ")\n",
    "classifiers_list = (\n",
    "    LogisticRegression(),\n",
    "    MultinomialNB(),\n",
    ")\n",
    "\n",
    "VectorizeAndClassify(vectorizers_list, classifiers_list)"
   ]
  },
  {
   "cell_type": "code",
   "execution_count": null,
   "metadata": {},
   "outputs": [],
   "source": []
  }
 ],
 "metadata": {
  "kernelspec": {
   "display_name": "Python 3",
   "language": "python",
   "name": "python3"
  },
  "language_info": {
   "codemirror_mode": {
    "name": "ipython",
    "version": 3
   },
   "file_extension": ".py",
   "mimetype": "text/x-python",
   "name": "python",
   "nbconvert_exporter": "python",
   "pygments_lexer": "ipython3",
   "version": "3.7.4"
  }
 },
 "nbformat": 4,
 "nbformat_minor": 2
}
