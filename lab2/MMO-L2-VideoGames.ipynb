{
 "cells": [
  {
   "cell_type": "markdown",
   "metadata": {},
   "source": [
    "# Лабораторная работа №2\n",
    "## Обработка признаков (часть 1).\n",
    "\n",
    "Рассмотрим исторические данные по выходу и продажам видеоигр из [на 2019 год](https://www.kaggle.com/ashaheedq/video-games-sales-2019)"
   ]
  },
  {
   "cell_type": "markdown",
   "metadata": {},
   "source": [
    "## Задание:\n",
    "\n",
    "[Оригинал](https://github.com/ugapanyuk/ml_course_2021/wiki/LAB_MMO__FEATURES):\n",
    "\n",
    "- Выбрать набор данных (датасет), содержащий категориальные и числовые признаки и пропуски в данных. Для выполнения следующих пунктов можно использовать несколько различных наборов данных (один для обработки пропусков, другой для категориальных признаков и т.д.) Просьба не использовать датасет, на котором данная задача решалась в лекции.\n",
    "- Для выбранного датасета (датасетов) на основе материалов лекций решить следующие задачи:\n",
    "    - устранение пропусков в данных;\n",
    "    - кодирование категориальных признаков;\n",
    "    - нормализацию числовых признаков.\n"
   ]
  },
  {
   "cell_type": "code",
   "execution_count": 1,
   "metadata": {},
   "outputs": [],
   "source": [
    "import numpy as np\n",
    "import pandas as pd\n",
    "import matplotlib\n",
    "import matplotlib.pyplot as plt\n",
    "import seaborn as sns\n",
    "%matplotlib inline  "
   ]
  },
  {
   "cell_type": "code",
   "execution_count": 2,
   "metadata": {},
   "outputs": [
    {
     "name": "stdout",
     "output_type": "stream",
     "text": [
      "Total loaded 55792 video games\n"
     ]
    }
   ],
   "source": [
    "df = pd.read_csv('../videogames/vgsales-12-4-2019-short.csv')\n",
    "print(f'Total loaded {len(df.index)} video games')"
   ]
  },
  {
   "cell_type": "code",
   "execution_count": 3,
   "metadata": {},
   "outputs": [],
   "source": [
    "# Объединим продажи в одну колонку\n",
    "df['Sales'] = df[['Total_Shipped', 'Global_Sales']].max(axis=1)\n",
    "df['Sales'].fillna(0, inplace=True)"
   ]
  },
  {
   "cell_type": "code",
   "execution_count": 4,
   "metadata": {},
   "outputs": [],
   "source": [
    "# Удалим лишнее\n",
    "df = df.drop(columns = ['Total_Shipped', 'Global_Sales', 'NA_Sales', 'PAL_Sales', 'JP_Sales', 'Other_Sales'])"
   ]
  },
  {
   "cell_type": "markdown",
   "metadata": {},
   "source": [
    "## Добавим выброс"
   ]
  },
  {
   "cell_type": "code",
   "execution_count": 5,
   "metadata": {},
   "outputs": [
    {
     "data": {
      "text/html": [
       "<div>\n",
       "<style scoped>\n",
       "    .dataframe tbody tr th:only-of-type {\n",
       "        vertical-align: middle;\n",
       "    }\n",
       "\n",
       "    .dataframe tbody tr th {\n",
       "        vertical-align: top;\n",
       "    }\n",
       "\n",
       "    .dataframe thead th {\n",
       "        text-align: right;\n",
       "    }\n",
       "</style>\n",
       "<table border=\"1\" class=\"dataframe\">\n",
       "  <thead>\n",
       "    <tr style=\"text-align: right;\">\n",
       "      <th></th>\n",
       "      <th>Rank</th>\n",
       "      <th>Name</th>\n",
       "      <th>Genre</th>\n",
       "      <th>ESRB_Rating</th>\n",
       "      <th>Platform</th>\n",
       "      <th>Publisher</th>\n",
       "      <th>Developer</th>\n",
       "      <th>Critic_Score</th>\n",
       "      <th>User_Score</th>\n",
       "      <th>Year</th>\n",
       "      <th>Sales</th>\n",
       "    </tr>\n",
       "  </thead>\n",
       "  <tbody>\n",
       "    <tr>\n",
       "      <td>55791</td>\n",
       "      <td>55792</td>\n",
       "      <td>Falcon Age</td>\n",
       "      <td>Action-Adventure</td>\n",
       "      <td>NaN</td>\n",
       "      <td>PS4</td>\n",
       "      <td>Unknown</td>\n",
       "      <td>Outerloop Games</td>\n",
       "      <td>NaN</td>\n",
       "      <td>NaN</td>\n",
       "      <td>NaN</td>\n",
       "      <td>0.0</td>\n",
       "    </tr>\n",
       "  </tbody>\n",
       "</table>\n",
       "</div>"
      ],
      "text/plain": [
       "        Rank        Name             Genre ESRB_Rating Platform Publisher  \\\n",
       "55791  55792  Falcon Age  Action-Adventure         NaN      PS4   Unknown   \n",
       "\n",
       "             Developer  Critic_Score  User_Score  Year  Sales  \n",
       "55791  Outerloop Games           NaN         NaN   NaN    0.0  "
      ]
     },
     "execution_count": 5,
     "metadata": {},
     "output_type": "execute_result"
    }
   ],
   "source": [
    "df.tail(1)"
   ]
  },
  {
   "cell_type": "code",
   "execution_count": 6,
   "metadata": {},
   "outputs": [
    {
     "data": {
      "text/html": [
       "<div>\n",
       "<style scoped>\n",
       "    .dataframe tbody tr th:only-of-type {\n",
       "        vertical-align: middle;\n",
       "    }\n",
       "\n",
       "    .dataframe tbody tr th {\n",
       "        vertical-align: top;\n",
       "    }\n",
       "\n",
       "    .dataframe thead th {\n",
       "        text-align: right;\n",
       "    }\n",
       "</style>\n",
       "<table border=\"1\" class=\"dataframe\">\n",
       "  <thead>\n",
       "    <tr style=\"text-align: right;\">\n",
       "      <th></th>\n",
       "      <th>Rank</th>\n",
       "      <th>Name</th>\n",
       "      <th>Genre</th>\n",
       "      <th>ESRB_Rating</th>\n",
       "      <th>Platform</th>\n",
       "      <th>Publisher</th>\n",
       "      <th>Developer</th>\n",
       "      <th>Critic_Score</th>\n",
       "      <th>User_Score</th>\n",
       "      <th>Year</th>\n",
       "      <th>Sales</th>\n",
       "    </tr>\n",
       "  </thead>\n",
       "  <tbody>\n",
       "    <tr>\n",
       "      <td>55791</td>\n",
       "      <td>55792</td>\n",
       "      <td>Falcon Age</td>\n",
       "      <td>Action-Adventure</td>\n",
       "      <td>NaN</td>\n",
       "      <td>PS4</td>\n",
       "      <td>Unknown</td>\n",
       "      <td>Outerloop Games</td>\n",
       "      <td>NaN</td>\n",
       "      <td>NaN</td>\n",
       "      <td>NaN</td>\n",
       "      <td>0.0</td>\n",
       "    </tr>\n",
       "    <tr>\n",
       "      <td>55792</td>\n",
       "      <td>66666</td>\n",
       "      <td>FakeGame</td>\n",
       "      <td>Music</td>\n",
       "      <td>E</td>\n",
       "      <td>NS</td>\n",
       "      <td>Drool</td>\n",
       "      <td>Drool</td>\n",
       "      <td>29.0</td>\n",
       "      <td>64.0</td>\n",
       "      <td>2018.0</td>\n",
       "      <td>0.0</td>\n",
       "    </tr>\n",
       "  </tbody>\n",
       "</table>\n",
       "</div>"
      ],
      "text/plain": [
       "        Rank        Name             Genre ESRB_Rating Platform Publisher  \\\n",
       "55791  55792  Falcon Age  Action-Adventure         NaN      PS4   Unknown   \n",
       "55792  66666    FakeGame             Music           E       NS     Drool   \n",
       "\n",
       "             Developer  Critic_Score  User_Score    Year  Sales  \n",
       "55791  Outerloop Games           NaN         NaN     NaN    0.0  \n",
       "55792            Drool          29.0        64.0  2018.0    0.0  "
      ]
     },
     "execution_count": 6,
     "metadata": {},
     "output_type": "execute_result"
    }
   ],
   "source": [
    "fake_row = (66666, 'FakeGame', 'Music', 'E', 'NS', 'Drool', 'Drool', 29.0, 64.0, 2018.0, 0.0)\n",
    "appendix = pd.DataFrame((fake_row,), columns=df.columns)\n",
    "df = df.append(appendix, ignore_index=True)\n",
    "df.tail(2)"
   ]
  },
  {
   "cell_type": "markdown",
   "metadata": {},
   "source": [
    "## Устранение пропусков в данных"
   ]
  },
  {
   "cell_type": "code",
   "execution_count": 7,
   "metadata": {},
   "outputs": [
    {
     "data": {
      "text/plain": [
       "Rank                0\n",
       "Name                0\n",
       "Genre               0\n",
       "ESRB_Rating     32169\n",
       "Platform            0\n",
       "Publisher           0\n",
       "Developer          17\n",
       "Critic_Score    49256\n",
       "User_Score      55457\n",
       "Year              979\n",
       "Sales               0\n",
       "dtype: int64"
      ]
     },
     "execution_count": 7,
     "metadata": {},
     "output_type": "execute_result"
    }
   ],
   "source": [
    "# Подсчитаем NaN-ы по каждой колонке\n",
    "df.isna().sum()"
   ]
  },
  {
   "cell_type": "code",
   "execution_count": 8,
   "metadata": {},
   "outputs": [],
   "source": [
    "# Удалим неизвестные игры\n",
    "df.dropna(subset=['Developer', 'Year'], inplace=True)"
   ]
  },
  {
   "cell_type": "code",
   "execution_count": 9,
   "metadata": {},
   "outputs": [],
   "source": [
    "# Слишком большой перевес NaN-ов относительно настоящих оценок. Лучше удалим\n",
    "df.dropna(subset=['Critic_Score', 'User_Score'], inplace=True)"
   ]
  },
  {
   "cell_type": "code",
   "execution_count": 10,
   "metadata": {},
   "outputs": [
    {
     "data": {
      "text/plain": [
       "array(['E', 'M', 'T', 'E10', nan], dtype=object)"
      ]
     },
     "execution_count": 10,
     "metadata": {},
     "output_type": "execute_result"
    }
   ],
   "source": [
    "df['ESRB_Rating'].unique()"
   ]
  },
  {
   "cell_type": "code",
   "execution_count": 11,
   "metadata": {},
   "outputs": [],
   "source": [
    "# «E» («Everyone») — «Для всех»\n",
    "# Заменим пропуски на значение по умолчанию\n",
    "df['ESRB_Rating'].fillna('E', inplace=True)"
   ]
  },
  {
   "cell_type": "code",
   "execution_count": 12,
   "metadata": {},
   "outputs": [],
   "source": [
    "# Заменим оценки критиков и пользователей на средние значения\n",
    "for col in ('Critic_Score', 'User_Score'):\n",
    "    df[col].fillna(df[col].mean(), inplace=True)"
   ]
  },
  {
   "cell_type": "code",
   "execution_count": 13,
   "metadata": {},
   "outputs": [
    {
     "data": {
      "text/plain": [
       "Rank            0\n",
       "Name            0\n",
       "Genre           0\n",
       "ESRB_Rating     0\n",
       "Platform        0\n",
       "Publisher       0\n",
       "Developer       0\n",
       "Critic_Score    0\n",
       "User_Score      0\n",
       "Year            0\n",
       "Sales           0\n",
       "dtype: int64"
      ]
     },
     "execution_count": 13,
     "metadata": {},
     "output_type": "execute_result"
    }
   ],
   "source": [
    "# Подсчитаем NaN-ы по каждой колонке\n",
    "df.isna().sum()"
   ]
  },
  {
   "cell_type": "markdown",
   "metadata": {},
   "source": [
    "## Кодирование категориальных признаков"
   ]
  },
  {
   "cell_type": "code",
   "execution_count": 14,
   "metadata": {},
   "outputs": [
    {
     "data": {
      "text/html": [
       "<div>\n",
       "<style scoped>\n",
       "    .dataframe tbody tr th:only-of-type {\n",
       "        vertical-align: middle;\n",
       "    }\n",
       "\n",
       "    .dataframe tbody tr th {\n",
       "        vertical-align: top;\n",
       "    }\n",
       "\n",
       "    .dataframe thead th {\n",
       "        text-align: right;\n",
       "    }\n",
       "</style>\n",
       "<table border=\"1\" class=\"dataframe\">\n",
       "  <thead>\n",
       "    <tr style=\"text-align: right;\">\n",
       "      <th></th>\n",
       "      <th>ESRB_Rating_E</th>\n",
       "      <th>ESRB_Rating_E10</th>\n",
       "      <th>ESRB_Rating_M</th>\n",
       "      <th>ESRB_Rating_T</th>\n",
       "    </tr>\n",
       "  </thead>\n",
       "  <tbody>\n",
       "    <tr>\n",
       "      <td>2</td>\n",
       "      <td>1</td>\n",
       "      <td>0</td>\n",
       "      <td>0</td>\n",
       "      <td>0</td>\n",
       "    </tr>\n",
       "    <tr>\n",
       "      <td>4</td>\n",
       "      <td>1</td>\n",
       "      <td>0</td>\n",
       "      <td>0</td>\n",
       "      <td>0</td>\n",
       "    </tr>\n",
       "    <tr>\n",
       "      <td>6</td>\n",
       "      <td>1</td>\n",
       "      <td>0</td>\n",
       "      <td>0</td>\n",
       "      <td>0</td>\n",
       "    </tr>\n",
       "    <tr>\n",
       "      <td>8</td>\n",
       "      <td>1</td>\n",
       "      <td>0</td>\n",
       "      <td>0</td>\n",
       "      <td>0</td>\n",
       "    </tr>\n",
       "    <tr>\n",
       "      <td>11</td>\n",
       "      <td>1</td>\n",
       "      <td>0</td>\n",
       "      <td>0</td>\n",
       "      <td>0</td>\n",
       "    </tr>\n",
       "    <tr>\n",
       "      <td>...</td>\n",
       "      <td>...</td>\n",
       "      <td>...</td>\n",
       "      <td>...</td>\n",
       "      <td>...</td>\n",
       "    </tr>\n",
       "    <tr>\n",
       "      <td>48498</td>\n",
       "      <td>1</td>\n",
       "      <td>0</td>\n",
       "      <td>0</td>\n",
       "      <td>0</td>\n",
       "    </tr>\n",
       "    <tr>\n",
       "      <td>51097</td>\n",
       "      <td>0</td>\n",
       "      <td>1</td>\n",
       "      <td>0</td>\n",
       "      <td>0</td>\n",
       "    </tr>\n",
       "    <tr>\n",
       "      <td>54537</td>\n",
       "      <td>1</td>\n",
       "      <td>0</td>\n",
       "      <td>0</td>\n",
       "      <td>0</td>\n",
       "    </tr>\n",
       "    <tr>\n",
       "      <td>55423</td>\n",
       "      <td>0</td>\n",
       "      <td>1</td>\n",
       "      <td>0</td>\n",
       "      <td>0</td>\n",
       "    </tr>\n",
       "    <tr>\n",
       "      <td>55792</td>\n",
       "      <td>1</td>\n",
       "      <td>0</td>\n",
       "      <td>0</td>\n",
       "      <td>0</td>\n",
       "    </tr>\n",
       "  </tbody>\n",
       "</table>\n",
       "<p>219 rows × 4 columns</p>\n",
       "</div>"
      ],
      "text/plain": [
       "       ESRB_Rating_E  ESRB_Rating_E10  ESRB_Rating_M  ESRB_Rating_T\n",
       "2                  1                0              0              0\n",
       "4                  1                0              0              0\n",
       "6                  1                0              0              0\n",
       "8                  1                0              0              0\n",
       "11                 1                0              0              0\n",
       "...              ...              ...            ...            ...\n",
       "48498              1                0              0              0\n",
       "51097              0                1              0              0\n",
       "54537              1                0              0              0\n",
       "55423              0                1              0              0\n",
       "55792              1                0              0              0\n",
       "\n",
       "[219 rows x 4 columns]"
      ]
     },
     "execution_count": 14,
     "metadata": {},
     "output_type": "execute_result"
    }
   ],
   "source": [
    "# One-Hot\n",
    "pd.get_dummies(df[['ESRB_Rating']])"
   ]
  },
  {
   "cell_type": "code",
   "execution_count": 15,
   "metadata": {},
   "outputs": [
    {
     "name": "stdout",
     "output_type": "stream",
     "text": [
      "['Action' 'Action-Adventure' 'Adventure' 'Fighting' 'MMO' 'Misc' 'Music'\n",
      " 'Platform' 'Puzzle' 'Racing' 'Role-Playing' 'Shooter' 'Simulation'\n",
      " 'Sports' 'Strategy'] [ 0  1  2  3  4  5  6  7  8  9 10 11 12 13 14]\n",
      "['3DS' 'DS' 'GC' 'N64' 'NS' 'PC' 'PS' 'PS2' 'PS3' 'PS4' 'PSN' 'PSP' 'WW'\n",
      " 'Wii' 'WiiU' 'X360' 'XB' 'XBL' 'XOne'] [ 0  1  2  3  4  5  6  7  8  9 10 11 12 13 14 15 16 17 18]\n",
      "['2K Games' 'Activision' 'Aksys Games' 'Atari' 'Atlus'\n",
      " 'Bethesda Softworks' 'Blizzard Entertainment' 'Capcom' 'DotEmu' 'Drool'\n",
      " 'EA Sports' 'Electronic Arts' 'FDG Entertainment' 'Feardemic'\n",
      " 'Hudson Entertainment' 'Ignition Entertainment' 'Invisible Handlebar'\n",
      " 'Konami' 'LucasArts' 'Mediatonic' 'Microprose' 'Microsoft Game Studios'\n",
      " 'Midway Games' 'NIS America' 'Namco Bandai' 'Natsume' 'Nicalis'\n",
      " 'Nintendo' 'Paradox Interactive' 'RedOctane' 'Rockstar Games' 'Sega'\n",
      " 'Sony Computer Entertainment' 'Sony Interactive Entertainment' 'Square'\n",
      " 'Square Enix' 'Strategy First' 'THQ' 'Team17 Software' 'Ubisoft'\n",
      " 'Valve Corporation' 'Warner Bros. Interactive' 'Working Designs'\n",
      " 'Xseed Games'] [ 0  1  2  3  4  5  6  7  8  9 10 11 12 13 14 15 16 17 18 19 20 21 22 23\n",
      " 24 25 26 27 28 29 30 31 32 33 34 35 36 37 38 39 40 41 42 43]\n",
      "['2K Australia / 2K Boston' '2K Boston / 2K Australia / 2K Marin'\n",
      " '989 Sports' 'Access Games' 'Alfa System' 'Arc System Works' 'Atlus Co.'\n",
      " 'Bandai Namco Games' 'BestGameEver.com' 'Bethesda Game Studios'\n",
      " 'Bethesda Softworks' 'BioWare Edmonton' 'Blizzard Entertainment'\n",
      " 'Blue Tongue' 'Bright Light Productions' 'Bungie Studios' 'Capcom'\n",
      " 'Capcom / Dimps Corporation' 'Capcom Production Studio 1'\n",
      " 'Capcom Production Studio 1 / TOSE Software' 'Capcom Production Studio 4'\n",
      " 'Cavia Inc.' 'Certain Affinity / Valve Software' 'Choice Provisions'\n",
      " 'Chris Sawyer' 'Cing' 'Cing Inc. / Town Factory' 'Climax Group'\n",
      " 'Climax Studios' 'Clover Studio' 'Crytek' 'Digital Eclipse' 'Drool'\n",
      " 'EA Canada' 'EA Digital Illusions CE' 'EA Montreal' 'EA Vancouver'\n",
      " 'EXAKT Entertainment' 'Ellipse Studios' 'Ensemble Studios' 'Epic Games'\n",
      " 'Evolution Studios' 'Firaxis' 'Flagship' 'From Software' 'GRIN'\n",
      " 'Game Arts' 'Game Atelier' 'Game Freak' 'Game Republic' 'Good-Feel'\n",
      " 'Grasshopper Manufacture' 'Guerrilla Games' 'HAL Laboratory'\n",
      " 'High Voltage Software' 'Hudson Entertainment' 'Infinity Ward'\n",
      " 'Insomniac Games' 'Intelligent Systems' 'IronNos Co., Ltd.'\n",
      " 'Just Add Water' 'K2 / Kurogane' 'Kojima Productions' 'Konami'\n",
      " 'Konami / Eighting' 'Konami Computer Entertainment Japan'\n",
      " 'Konami Computer Entertainment Tokyo' 'Krome Studios' 'Level 5'\n",
      " 'Lionhead Studios' 'Lizardcube' 'MPS Labs' 'Matrix Software'\n",
      " 'Media Molecule' 'Mediatonic Ltd.'\n",
      " 'Mistwalker Corporation / Feelplus Inc.' 'Monolith Productions'\n",
      " 'Monolith Soft' 'Namco' 'Namco Tales Studio' 'Naughty Dog' 'Neversoft'\n",
      " 'Nihon Falcom Corporation' 'Nintendo EAD' 'Nintendo EAD Tokyo'\n",
      " 'Nintendo EPD' 'Nintendo Software Technology Corporation'\n",
      " 'Nippon Ichi Software' 'Omega Force' 'PlatinumGames' 'Polyphony Digital'\n",
      " 'Project Sora' 'Quantic Dream' 'Rainbow Studios' 'Rare Ltd.'\n",
      " 'Raven Software' 'Ready at Dawn' 'Ready at Dawn Studios'\n",
      " 'Realtime Worlds' 'Retro Studios' 'Rhino Studios' 'Rockstar Leeds/North'\n",
      " 'Rockstar North' 'Rockstar San Diego' 'SCEA Bend Studio'\n",
      " 'SCEA Santa Monica Studio' 'SCEI' 'SFB Games' 'Secret Level' 'Sega'\n",
      " 'Sega WOW Overworks' 'Sonic Team' 'Sonic Team/Dimps Corporation'\n",
      " 'Spike / Bandai Namco Games' 'Square Enix' 'SquareSoft'\n",
      " 'Sucker Punch Productions' 'Taleworlds' 'Team Bondi' 'Team ICO'\n",
      " 'Team Silent' 'Team17 Software' 'The Deep End Games' 'Treyarch'\n",
      " 'Turn 10 Studios' 'Ubisoft' 'Ubisoft Montreal' 'Ubisoft Paris'\n",
      " 'Ubisoft Romania' 'Ubisoft San Francisco' 'Ubisoft Shanghai'\n",
      " 'Ubisoft Toronto' 'Valhalla Game Studios' 'Valve Software' 'Vanillaware'\n",
      " 'Vicarious Visions' 'Vigil Games' 'Visceral Games'\n",
      " \"Yuke's Future Media Creators\" 'Zipper Interactive' 'id Software'\n",
      " 'n-Space' 'thatgamecompany' 'tri-Ace'] [  0   1   2   3   4   5   6   7   8   9  10  11  12  13  14  15  16  17\n",
      "  18  19  20  21  22  23  24  25  26  27  28  29  30  31  32  33  34  35\n",
      "  36  37  38  39  40  41  42  43  44  45  46  47  48  49  50  51  52  53\n",
      "  54  55  56  57  58  59  60  61  62  63  64  65  66  67  68  69  70  71\n",
      "  72  73  74  75  76  77  78  79  80  81  82  83  84  85  86  87  88  89\n",
      "  90  91  92  93  94  95  96  97  98  99 100 101 102 103 104 105 106 107\n",
      " 108 109 110 111 112 113 114 115 116 117 118 119 120 121 122 123 124 125\n",
      " 126 127 128 129 130 131 132 133 134 135 136 137 138 139 140 141 142 143]\n"
     ]
    },
    {
     "data": {
      "text/html": [
       "<div>\n",
       "<style scoped>\n",
       "    .dataframe tbody tr th:only-of-type {\n",
       "        vertical-align: middle;\n",
       "    }\n",
       "\n",
       "    .dataframe tbody tr th {\n",
       "        vertical-align: top;\n",
       "    }\n",
       "\n",
       "    .dataframe thead th {\n",
       "        text-align: right;\n",
       "    }\n",
       "</style>\n",
       "<table border=\"1\" class=\"dataframe\">\n",
       "  <thead>\n",
       "    <tr style=\"text-align: right;\">\n",
       "      <th></th>\n",
       "      <th>Rank</th>\n",
       "      <th>Name</th>\n",
       "      <th>Genre</th>\n",
       "      <th>ESRB_Rating</th>\n",
       "      <th>Platform</th>\n",
       "      <th>Publisher</th>\n",
       "      <th>Developer</th>\n",
       "      <th>Critic_Score</th>\n",
       "      <th>User_Score</th>\n",
       "      <th>Year</th>\n",
       "      <th>Sales</th>\n",
       "    </tr>\n",
       "  </thead>\n",
       "  <tbody>\n",
       "    <tr>\n",
       "      <td>2</td>\n",
       "      <td>3</td>\n",
       "      <td>Mario Kart Wii</td>\n",
       "      <td>9</td>\n",
       "      <td>E</td>\n",
       "      <td>13</td>\n",
       "      <td>27</td>\n",
       "      <td>83</td>\n",
       "      <td>8.2</td>\n",
       "      <td>9.1</td>\n",
       "      <td>2008.0</td>\n",
       "      <td>37.14</td>\n",
       "    </tr>\n",
       "    <tr>\n",
       "      <td>4</td>\n",
       "      <td>5</td>\n",
       "      <td>Wii Sports Resort</td>\n",
       "      <td>13</td>\n",
       "      <td>E</td>\n",
       "      <td>13</td>\n",
       "      <td>27</td>\n",
       "      <td>83</td>\n",
       "      <td>8.0</td>\n",
       "      <td>8.8</td>\n",
       "      <td>2009.0</td>\n",
       "      <td>33.09</td>\n",
       "    </tr>\n",
       "    <tr>\n",
       "      <td>6</td>\n",
       "      <td>7</td>\n",
       "      <td>New Super Mario Bros.</td>\n",
       "      <td>7</td>\n",
       "      <td>E</td>\n",
       "      <td>1</td>\n",
       "      <td>27</td>\n",
       "      <td>83</td>\n",
       "      <td>9.1</td>\n",
       "      <td>8.1</td>\n",
       "      <td>2006.0</td>\n",
       "      <td>30.80</td>\n",
       "    </tr>\n",
       "    <tr>\n",
       "      <td>8</td>\n",
       "      <td>9</td>\n",
       "      <td>New Super Mario Bros. Wii</td>\n",
       "      <td>7</td>\n",
       "      <td>E</td>\n",
       "      <td>13</td>\n",
       "      <td>27</td>\n",
       "      <td>83</td>\n",
       "      <td>8.6</td>\n",
       "      <td>9.2</td>\n",
       "      <td>2009.0</td>\n",
       "      <td>30.22</td>\n",
       "    </tr>\n",
       "    <tr>\n",
       "      <td>11</td>\n",
       "      <td>12</td>\n",
       "      <td>Wii Play</td>\n",
       "      <td>5</td>\n",
       "      <td>E</td>\n",
       "      <td>13</td>\n",
       "      <td>27</td>\n",
       "      <td>83</td>\n",
       "      <td>5.9</td>\n",
       "      <td>4.5</td>\n",
       "      <td>2007.0</td>\n",
       "      <td>28.02</td>\n",
       "    </tr>\n",
       "  </tbody>\n",
       "</table>\n",
       "</div>"
      ],
      "text/plain": [
       "    Rank                       Name  Genre ESRB_Rating  Platform  Publisher  \\\n",
       "2      3             Mario Kart Wii      9           E        13         27   \n",
       "4      5          Wii Sports Resort     13           E        13         27   \n",
       "6      7      New Super Mario Bros.      7           E         1         27   \n",
       "8      9  New Super Mario Bros. Wii      7           E        13         27   \n",
       "11    12                   Wii Play      5           E        13         27   \n",
       "\n",
       "    Developer  Critic_Score  User_Score    Year  Sales  \n",
       "2          83           8.2         9.1  2008.0  37.14  \n",
       "4          83           8.0         8.8  2009.0  33.09  \n",
       "6          83           9.1         8.1  2006.0  30.80  \n",
       "8          83           8.6         9.2  2009.0  30.22  \n",
       "11         83           5.9         4.5  2007.0  28.02  "
      ]
     },
     "execution_count": 15,
     "metadata": {},
     "output_type": "execute_result"
    }
   ],
   "source": [
    "from sklearn.preprocessing import LabelEncoder\n",
    "\n",
    "for col in ('Genre', 'Platform', 'Publisher', 'Developer'):\n",
    "    le = LabelEncoder()\n",
    "    col_le = le.fit_transform(df[col])\n",
    "    print(np.unique(df[col]), np.unique(col_le))\n",
    "    df[col] = col_le\n",
    "\n",
    "df.head()"
   ]
  },
  {
   "cell_type": "code",
   "execution_count": 16,
   "metadata": {},
   "outputs": [
    {
     "data": {
      "text/html": [
       "<div>\n",
       "<style scoped>\n",
       "    .dataframe tbody tr th:only-of-type {\n",
       "        vertical-align: middle;\n",
       "    }\n",
       "\n",
       "    .dataframe tbody tr th {\n",
       "        vertical-align: top;\n",
       "    }\n",
       "\n",
       "    .dataframe thead th {\n",
       "        text-align: right;\n",
       "    }\n",
       "</style>\n",
       "<table border=\"1\" class=\"dataframe\">\n",
       "  <thead>\n",
       "    <tr style=\"text-align: right;\">\n",
       "      <th></th>\n",
       "      <th>Rank</th>\n",
       "      <th>Name</th>\n",
       "      <th>Genre</th>\n",
       "      <th>ESRB_Rating</th>\n",
       "      <th>Platform</th>\n",
       "      <th>Publisher</th>\n",
       "      <th>Developer</th>\n",
       "      <th>Critic_Score</th>\n",
       "      <th>User_Score</th>\n",
       "      <th>Year</th>\n",
       "      <th>Sales</th>\n",
       "    </tr>\n",
       "  </thead>\n",
       "  <tbody>\n",
       "    <tr>\n",
       "      <td>2</td>\n",
       "      <td>3</td>\n",
       "      <td>Mario Kart Wii</td>\n",
       "      <td>9</td>\n",
       "      <td>3</td>\n",
       "      <td>13</td>\n",
       "      <td>27</td>\n",
       "      <td>83</td>\n",
       "      <td>8.2</td>\n",
       "      <td>9.1</td>\n",
       "      <td>2008.0</td>\n",
       "      <td>37.14</td>\n",
       "    </tr>\n",
       "    <tr>\n",
       "      <td>4</td>\n",
       "      <td>5</td>\n",
       "      <td>Wii Sports Resort</td>\n",
       "      <td>13</td>\n",
       "      <td>3</td>\n",
       "      <td>13</td>\n",
       "      <td>27</td>\n",
       "      <td>83</td>\n",
       "      <td>8.0</td>\n",
       "      <td>8.8</td>\n",
       "      <td>2009.0</td>\n",
       "      <td>33.09</td>\n",
       "    </tr>\n",
       "    <tr>\n",
       "      <td>6</td>\n",
       "      <td>7</td>\n",
       "      <td>New Super Mario Bros.</td>\n",
       "      <td>7</td>\n",
       "      <td>3</td>\n",
       "      <td>1</td>\n",
       "      <td>27</td>\n",
       "      <td>83</td>\n",
       "      <td>9.1</td>\n",
       "      <td>8.1</td>\n",
       "      <td>2006.0</td>\n",
       "      <td>30.80</td>\n",
       "    </tr>\n",
       "    <tr>\n",
       "      <td>8</td>\n",
       "      <td>9</td>\n",
       "      <td>New Super Mario Bros. Wii</td>\n",
       "      <td>7</td>\n",
       "      <td>3</td>\n",
       "      <td>13</td>\n",
       "      <td>27</td>\n",
       "      <td>83</td>\n",
       "      <td>8.6</td>\n",
       "      <td>9.2</td>\n",
       "      <td>2009.0</td>\n",
       "      <td>30.22</td>\n",
       "    </tr>\n",
       "    <tr>\n",
       "      <td>11</td>\n",
       "      <td>12</td>\n",
       "      <td>Wii Play</td>\n",
       "      <td>5</td>\n",
       "      <td>3</td>\n",
       "      <td>13</td>\n",
       "      <td>27</td>\n",
       "      <td>83</td>\n",
       "      <td>5.9</td>\n",
       "      <td>4.5</td>\n",
       "      <td>2007.0</td>\n",
       "      <td>28.02</td>\n",
       "    </tr>\n",
       "  </tbody>\n",
       "</table>\n",
       "</div>"
      ],
      "text/plain": [
       "    Rank                       Name  Genre ESRB_Rating  Platform  Publisher  \\\n",
       "2      3             Mario Kart Wii      9           3        13         27   \n",
       "4      5          Wii Sports Resort     13           3        13         27   \n",
       "6      7      New Super Mario Bros.      7           3         1         27   \n",
       "8      9  New Super Mario Bros. Wii      7           3        13         27   \n",
       "11    12                   Wii Play      5           3        13         27   \n",
       "\n",
       "    Developer  Critic_Score  User_Score    Year  Sales  \n",
       "2          83           8.2         9.1  2008.0  37.14  \n",
       "4          83           8.0         8.8  2009.0  33.09  \n",
       "6          83           9.1         8.1  2006.0  30.80  \n",
       "8          83           8.6         9.2  2009.0  30.22  \n",
       "11         83           5.9         4.5  2007.0  28.02  "
      ]
     },
     "execution_count": 16,
     "metadata": {},
     "output_type": "execute_result"
    }
   ],
   "source": [
    "# Static label encoding\n",
    "di = {\n",
    "    'RP':  0,\n",
    "    'EC':  1,\n",
    "    'KA':  2,\n",
    "    'E':   3,\n",
    "    'E10': 4,\n",
    "    'T':   5,\n",
    "    'M':   6,\n",
    "    'AO':  7,\n",
    "}\n",
    "\n",
    "df.replace({'ESRB_Rating': di}, inplace=True)\n",
    "df.head()"
   ]
  },
  {
   "cell_type": "markdown",
   "metadata": {},
   "source": [
    "## Нормализация числовых признаков"
   ]
  },
  {
   "cell_type": "code",
   "execution_count": 17,
   "metadata": {},
   "outputs": [],
   "source": [
    "import scipy.stats as stats"
   ]
  },
  {
   "cell_type": "code",
   "execution_count": 18,
   "metadata": {},
   "outputs": [],
   "source": [
    "def diagnostic_plots(df, variable):\n",
    "    plt.figure(figsize=(15,6))\n",
    "    # гистограмма\n",
    "    plt.subplot(1, 2, 1)\n",
    "    df[variable].hist(bins=30)\n",
    "    ## Q-Q plot\n",
    "    plt.subplot(1, 2, 2)\n",
    "    stats.probplot(df[variable], dist=\"norm\", plot=plt)\n",
    "    plt.show()"
   ]
  },
  {
   "cell_type": "code",
   "execution_count": 19,
   "metadata": {},
   "outputs": [],
   "source": [
    "def boxcox(data, col):\n",
    "    diagnostic_plots(data, col)\n",
    "    data[f'{col}_boxcox'], param = stats.boxcox(data[col]) \n",
    "    print('Оптимальное значение λ = {}'.format(param))\n",
    "    diagnostic_plots(data, f'{col}_boxcox')"
   ]
  },
  {
   "cell_type": "code",
   "execution_count": 20,
   "metadata": {},
   "outputs": [
    {
     "data": {
      "image/png": "[encoded data removed]",
      "text/plain": [
       "<Figure size 1080x432 with 2 Axes>"
      ]
     },
     "metadata": {
      "needs_background": "light"
     },
     "output_type": "display_data"
    },
    {
     "name": "stdout",
     "output_type": "stream",
     "text": [
      "Оптимальное значение λ = -0.021821216576747314\n"
     ]
    },
    {
     "data": {
      "image/png": "[encoded data removed]",
      "text/plain": [
       "<Figure size 1080x432 with 2 Axes>"
      ]
     },
     "metadata": {
      "needs_background": "light"
     },
     "output_type": "display_data"
    }
   ],
   "source": [
    "boxcox(df, 'Critic_Score')"
   ]
  },
  {
   "cell_type": "code",
   "execution_count": 21,
   "metadata": {},
   "outputs": [
    {
     "data": {
      "image/png": "[encoded data removed]",
      "text/plain": [
       "<Figure size 1080x432 with 2 Axes>"
      ]
     },
     "metadata": {
      "needs_background": "light"
     },
     "output_type": "display_data"
    },
    {
     "name": "stdout",
     "output_type": "stream",
     "text": [
      "Оптимальное значение λ = -0.6048001579673186\n"
     ]
    },
    {
     "data": {
      "image/png": "[encoded data removed]",
      "text/plain": [
       "<Figure size 1080x432 with 2 Axes>"
      ]
     },
     "metadata": {
      "needs_background": "light"
     },
     "output_type": "display_data"
    }
   ],
   "source": [
    "boxcox(df, 'User_Score')"
   ]
  },
  {
   "cell_type": "code",
   "execution_count": 22,
   "metadata": {},
   "outputs": [
    {
     "data": {
      "text/html": [
       "<div>\n",
       "<style scoped>\n",
       "    .dataframe tbody tr th:only-of-type {\n",
       "        vertical-align: middle;\n",
       "    }\n",
       "\n",
       "    .dataframe tbody tr th {\n",
       "        vertical-align: top;\n",
       "    }\n",
       "\n",
       "    .dataframe thead th {\n",
       "        text-align: right;\n",
       "    }\n",
       "</style>\n",
       "<table border=\"1\" class=\"dataframe\">\n",
       "  <thead>\n",
       "    <tr style=\"text-align: right;\">\n",
       "      <th></th>\n",
       "      <th>Rank</th>\n",
       "      <th>Name</th>\n",
       "      <th>Genre</th>\n",
       "      <th>ESRB_Rating</th>\n",
       "      <th>Platform</th>\n",
       "      <th>Publisher</th>\n",
       "      <th>Developer</th>\n",
       "      <th>Critic_Score</th>\n",
       "      <th>User_Score</th>\n",
       "      <th>Year</th>\n",
       "      <th>Sales</th>\n",
       "      <th>Critic_Score_boxcox</th>\n",
       "      <th>User_Score_boxcox</th>\n",
       "    </tr>\n",
       "  </thead>\n",
       "  <tbody>\n",
       "    <tr>\n",
       "      <td>2</td>\n",
       "      <td>3</td>\n",
       "      <td>Mario Kart Wii</td>\n",
       "      <td>9</td>\n",
       "      <td>3</td>\n",
       "      <td>13</td>\n",
       "      <td>27</td>\n",
       "      <td>83</td>\n",
       "      <td>8.2</td>\n",
       "      <td>9.1</td>\n",
       "      <td>2008.0</td>\n",
       "      <td>37.14</td>\n",
       "      <td>2.056560</td>\n",
       "      <td>1.218568</td>\n",
       "    </tr>\n",
       "    <tr>\n",
       "      <td>4</td>\n",
       "      <td>5</td>\n",
       "      <td>Wii Sports Resort</td>\n",
       "      <td>13</td>\n",
       "      <td>3</td>\n",
       "      <td>13</td>\n",
       "      <td>27</td>\n",
       "      <td>83</td>\n",
       "      <td>8.0</td>\n",
       "      <td>8.8</td>\n",
       "      <td>2009.0</td>\n",
       "      <td>33.09</td>\n",
       "      <td>2.032969</td>\n",
       "      <td>1.209662</td>\n",
       "    </tr>\n",
       "    <tr>\n",
       "      <td>6</td>\n",
       "      <td>7</td>\n",
       "      <td>New Super Mario Bros.</td>\n",
       "      <td>7</td>\n",
       "      <td>3</td>\n",
       "      <td>1</td>\n",
       "      <td>27</td>\n",
       "      <td>83</td>\n",
       "      <td>9.1</td>\n",
       "      <td>8.1</td>\n",
       "      <td>2006.0</td>\n",
       "      <td>30.80</td>\n",
       "      <td>2.155914</td>\n",
       "      <td>1.186848</td>\n",
       "    </tr>\n",
       "    <tr>\n",
       "      <td>8</td>\n",
       "      <td>9</td>\n",
       "      <td>New Super Mario Bros. Wii</td>\n",
       "      <td>7</td>\n",
       "      <td>3</td>\n",
       "      <td>13</td>\n",
       "      <td>27</td>\n",
       "      <td>83</td>\n",
       "      <td>8.6</td>\n",
       "      <td>9.2</td>\n",
       "      <td>2009.0</td>\n",
       "      <td>30.22</td>\n",
       "      <td>2.102027</td>\n",
       "      <td>1.221433</td>\n",
       "    </tr>\n",
       "    <tr>\n",
       "      <td>11</td>\n",
       "      <td>12</td>\n",
       "      <td>Wii Play</td>\n",
       "      <td>5</td>\n",
       "      <td>3</td>\n",
       "      <td>13</td>\n",
       "      <td>27</td>\n",
       "      <td>83</td>\n",
       "      <td>5.9</td>\n",
       "      <td>4.5</td>\n",
       "      <td>2007.0</td>\n",
       "      <td>28.02</td>\n",
       "      <td>1.741018</td>\n",
       "      <td>0.987667</td>\n",
       "    </tr>\n",
       "  </tbody>\n",
       "</table>\n",
       "</div>"
      ],
      "text/plain": [
       "    Rank                       Name  Genre ESRB_Rating  Platform  Publisher  \\\n",
       "2      3             Mario Kart Wii      9           3        13         27   \n",
       "4      5          Wii Sports Resort     13           3        13         27   \n",
       "6      7      New Super Mario Bros.      7           3         1         27   \n",
       "8      9  New Super Mario Bros. Wii      7           3        13         27   \n",
       "11    12                   Wii Play      5           3        13         27   \n",
       "\n",
       "    Developer  Critic_Score  User_Score    Year  Sales  Critic_Score_boxcox  \\\n",
       "2          83           8.2         9.1  2008.0  37.14             2.056560   \n",
       "4          83           8.0         8.8  2009.0  33.09             2.032969   \n",
       "6          83           9.1         8.1  2006.0  30.80             2.155914   \n",
       "8          83           8.6         9.2  2009.0  30.22             2.102027   \n",
       "11         83           5.9         4.5  2007.0  28.02             1.741018   \n",
       "\n",
       "    User_Score_boxcox  \n",
       "2            1.218568  \n",
       "4            1.209662  \n",
       "6            1.186848  \n",
       "8            1.221433  \n",
       "11           0.987667  "
      ]
     },
     "execution_count": 22,
     "metadata": {},
     "output_type": "execute_result"
    }
   ],
   "source": [
    "df.head()"
   ]
  },
  {
   "cell_type": "code",
   "execution_count": 23,
   "metadata": {},
   "outputs": [
    {
     "data": {
      "text/html": [
       "<div>\n",
       "<style scoped>\n",
       "    .dataframe tbody tr th:only-of-type {\n",
       "        vertical-align: middle;\n",
       "    }\n",
       "\n",
       "    .dataframe tbody tr th {\n",
       "        vertical-align: top;\n",
       "    }\n",
       "\n",
       "    .dataframe thead th {\n",
       "        text-align: right;\n",
       "    }\n",
       "</style>\n",
       "<table border=\"1\" class=\"dataframe\">\n",
       "  <thead>\n",
       "    <tr style=\"text-align: right;\">\n",
       "      <th></th>\n",
       "      <th>Rank</th>\n",
       "      <th>Name</th>\n",
       "      <th>Genre</th>\n",
       "      <th>ESRB_Rating</th>\n",
       "      <th>Platform</th>\n",
       "      <th>Publisher</th>\n",
       "      <th>Developer</th>\n",
       "      <th>Critic_Score</th>\n",
       "      <th>User_Score</th>\n",
       "      <th>Year</th>\n",
       "      <th>Sales</th>\n",
       "      <th>Critic_Score_boxcox</th>\n",
       "      <th>User_Score_boxcox</th>\n",
       "    </tr>\n",
       "  </thead>\n",
       "  <tbody>\n",
       "    <tr>\n",
       "      <td>55792</td>\n",
       "      <td>66666</td>\n",
       "      <td>FakeGame</td>\n",
       "      <td>6</td>\n",
       "      <td>3</td>\n",
       "      <td>4</td>\n",
       "      <td>9</td>\n",
       "      <td>32</td>\n",
       "      <td>29.0</td>\n",
       "      <td>64.0</td>\n",
       "      <td>2018.0</td>\n",
       "      <td>0.0</td>\n",
       "      <td>3.246559</td>\n",
       "      <td>1.519776</td>\n",
       "    </tr>\n",
       "  </tbody>\n",
       "</table>\n",
       "</div>"
      ],
      "text/plain": [
       "        Rank      Name  Genre ESRB_Rating  Platform  Publisher  Developer  \\\n",
       "55792  66666  FakeGame      6           3         4          9         32   \n",
       "\n",
       "       Critic_Score  User_Score    Year  Sales  Critic_Score_boxcox  \\\n",
       "55792          29.0        64.0  2018.0    0.0             3.246559   \n",
       "\n",
       "       User_Score_boxcox  \n",
       "55792           1.519776  "
      ]
     },
     "execution_count": 23,
     "metadata": {},
     "output_type": "execute_result"
    }
   ],
   "source": [
    "df.tail(1)"
   ]
  },
  {
   "cell_type": "markdown",
   "metadata": {},
   "source": [
    "## Сохраняем"
   ]
  },
  {
   "cell_type": "code",
   "execution_count": 24,
   "metadata": {},
   "outputs": [],
   "source": [
    "save_path = '../videogames/video_games_s2.csv'\n",
    "df.to_csv(save_path, index=False)"
   ]
  },
  {
   "cell_type": "code",
   "execution_count": 25,
   "metadata": {},
   "outputs": [
    {
     "data": {
      "text/html": [
       "<div>\n",
       "<style scoped>\n",
       "    .dataframe tbody tr th:only-of-type {\n",
       "        vertical-align: middle;\n",
       "    }\n",
       "\n",
       "    .dataframe tbody tr th {\n",
       "        vertical-align: top;\n",
       "    }\n",
       "\n",
       "    .dataframe thead th {\n",
       "        text-align: right;\n",
       "    }\n",
       "</style>\n",
       "<table border=\"1\" class=\"dataframe\">\n",
       "  <thead>\n",
       "    <tr style=\"text-align: right;\">\n",
       "      <th></th>\n",
       "      <th>Rank</th>\n",
       "      <th>Name</th>\n",
       "      <th>Genre</th>\n",
       "      <th>ESRB_Rating</th>\n",
       "      <th>Platform</th>\n",
       "      <th>Publisher</th>\n",
       "      <th>Developer</th>\n",
       "      <th>Critic_Score</th>\n",
       "      <th>User_Score</th>\n",
       "      <th>Year</th>\n",
       "      <th>Sales</th>\n",
       "      <th>Critic_Score_boxcox</th>\n",
       "      <th>User_Score_boxcox</th>\n",
       "    </tr>\n",
       "  </thead>\n",
       "  <tbody>\n",
       "    <tr>\n",
       "      <td>0</td>\n",
       "      <td>3</td>\n",
       "      <td>Mario Kart Wii</td>\n",
       "      <td>9</td>\n",
       "      <td>3</td>\n",
       "      <td>13</td>\n",
       "      <td>27</td>\n",
       "      <td>83</td>\n",
       "      <td>8.2</td>\n",
       "      <td>9.1</td>\n",
       "      <td>2008.0</td>\n",
       "      <td>37.14</td>\n",
       "      <td>2.056560</td>\n",
       "      <td>1.218568</td>\n",
       "    </tr>\n",
       "    <tr>\n",
       "      <td>1</td>\n",
       "      <td>5</td>\n",
       "      <td>Wii Sports Resort</td>\n",
       "      <td>13</td>\n",
       "      <td>3</td>\n",
       "      <td>13</td>\n",
       "      <td>27</td>\n",
       "      <td>83</td>\n",
       "      <td>8.0</td>\n",
       "      <td>8.8</td>\n",
       "      <td>2009.0</td>\n",
       "      <td>33.09</td>\n",
       "      <td>2.032969</td>\n",
       "      <td>1.209662</td>\n",
       "    </tr>\n",
       "    <tr>\n",
       "      <td>2</td>\n",
       "      <td>7</td>\n",
       "      <td>New Super Mario Bros.</td>\n",
       "      <td>7</td>\n",
       "      <td>3</td>\n",
       "      <td>1</td>\n",
       "      <td>27</td>\n",
       "      <td>83</td>\n",
       "      <td>9.1</td>\n",
       "      <td>8.1</td>\n",
       "      <td>2006.0</td>\n",
       "      <td>30.80</td>\n",
       "      <td>2.155914</td>\n",
       "      <td>1.186848</td>\n",
       "    </tr>\n",
       "    <tr>\n",
       "      <td>3</td>\n",
       "      <td>9</td>\n",
       "      <td>New Super Mario Bros. Wii</td>\n",
       "      <td>7</td>\n",
       "      <td>3</td>\n",
       "      <td>13</td>\n",
       "      <td>27</td>\n",
       "      <td>83</td>\n",
       "      <td>8.6</td>\n",
       "      <td>9.2</td>\n",
       "      <td>2009.0</td>\n",
       "      <td>30.22</td>\n",
       "      <td>2.102027</td>\n",
       "      <td>1.221433</td>\n",
       "    </tr>\n",
       "    <tr>\n",
       "      <td>4</td>\n",
       "      <td>12</td>\n",
       "      <td>Wii Play</td>\n",
       "      <td>5</td>\n",
       "      <td>3</td>\n",
       "      <td>13</td>\n",
       "      <td>27</td>\n",
       "      <td>83</td>\n",
       "      <td>5.9</td>\n",
       "      <td>4.5</td>\n",
       "      <td>2007.0</td>\n",
       "      <td>28.02</td>\n",
       "      <td>1.741018</td>\n",
       "      <td>0.987667</td>\n",
       "    </tr>\n",
       "  </tbody>\n",
       "</table>\n",
       "</div>"
      ],
      "text/plain": [
       "   Rank                       Name  Genre  ESRB_Rating  Platform  Publisher  \\\n",
       "0     3             Mario Kart Wii      9            3        13         27   \n",
       "1     5          Wii Sports Resort     13            3        13         27   \n",
       "2     7      New Super Mario Bros.      7            3         1         27   \n",
       "3     9  New Super Mario Bros. Wii      7            3        13         27   \n",
       "4    12                   Wii Play      5            3        13         27   \n",
       "\n",
       "   Developer  Critic_Score  User_Score    Year  Sales  Critic_Score_boxcox  \\\n",
       "0         83           8.2         9.1  2008.0  37.14             2.056560   \n",
       "1         83           8.0         8.8  2009.0  33.09             2.032969   \n",
       "2         83           9.1         8.1  2006.0  30.80             2.155914   \n",
       "3         83           8.6         9.2  2009.0  30.22             2.102027   \n",
       "4         83           5.9         4.5  2007.0  28.02             1.741018   \n",
       "\n",
       "   User_Score_boxcox  \n",
       "0           1.218568  \n",
       "1           1.209662  \n",
       "2           1.186848  \n",
       "3           1.221433  \n",
       "4           0.987667  "
      ]
     },
     "execution_count": 25,
     "metadata": {},
     "output_type": "execute_result"
    }
   ],
   "source": [
    "check_df = pd.read_csv(save_path)\n",
    "check_df.head()"
   ]
  },
  {
   "cell_type": "code",
   "execution_count": null,
   "metadata": {},
   "outputs": [],
   "source": []
  }
 ],
 "metadata": {
  "kernelspec": {
   "display_name": "Python 3",
   "language": "python",
   "name": "python3"
  },
  "language_info": {
   "codemirror_mode": {
    "name": "ipython",
    "version": 3
   },
   "file_extension": ".py",
   "mimetype": "text/x-python",
   "name": "python",
   "nbconvert_exporter": "python",
   "pygments_lexer": "ipython3",
   "version": "3.7.4"
  }
 },
 "nbformat": 4,
 "nbformat_minor": 2
}
